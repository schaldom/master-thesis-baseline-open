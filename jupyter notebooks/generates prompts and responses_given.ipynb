{
 "cells": [
  {
   "cell_type": "code",
   "execution_count": 2,
   "id": "7073ee28",
   "metadata": {},
   "outputs": [],
   "source": [
    "import random\n",
    "import jsonlines\n",
    "\n",
    "# List of settings\n",
    "settings = [\"in a sprawling metropolis, with towering skyscrapers and bustling streets filled with people and cars\",\n",
    "            \"in a peaceful countryside, with rolling hills and meadows full of wildflowers\",\n",
    "            \"in a dystopian future, where technology has taken over and the world is in ruins\",\n",
    "            \"on a remote island, surrounded by crystal-clear waters and pristine beaches\",\n",
    "            \"in a medieval castle, with stone walls and torch-lit corridors\"]\n",
    "\n",
    "# List of character names\n",
    "characters = [\"Lily\", \"Jake\", \"Max\", \"Sophie\", \"Oliver\"]\n",
    "\n",
    "# List of character types\n",
    "types = [\"main character\", \"villain\", \"best friend\", \"love interest\", \"wise mentor\"]\n",
    "\n",
    "# List of dialogue options\n",
    "dialogue = [\"'I can't believe I'm finally here. This is the moment I've been waiting for.'\",\n",
    "            \"'What are you working on, Lily?'\",\n",
    "            \"'You're making a big mistake, Jake. You have no idea who you're dealing with.'\",\n",
    "            \"'I'm so glad you're here, Max. I couldn't have done this without you.'\",\n",
    "            \"'You must be the new recruit. I'm Sophie, your trainer.'\"]\n",
    "\n",
    "# Generate 500 prompts and responses and write to JSONL file\n",
    "with jsonlines.open('comic_strip_prompts_given.jsonl', mode='w') as writer:\n",
    "    for i in range(500):\n",
    "        # Generate prompt\n",
    "        if i % 3 == 0:\n",
    "            prompt = \"Panel \" + str(i // 3 + 1) + \": Describe the setting for the panel.\"\n",
    "            response = random.choice(settings)\n",
    "        elif i % 3 == 1:\n",
    "            prompt = \"Panel \" + str(i // 3 + 1) + \": Create a character for the panel.\"\n",
    "            response = random.choice(characters) + \", a \" + random.choice(types)\n",
    "        else:\n",
    "            prompt = \"Panel \" + str(i // 3 + 1) + \": Write some dialogue for the panel.\"\n",
    "            response = random.choice(characters) + \": \" + random.choice(dialogue)\n",
    "\n",
    "        # Write prompt and response to JSONL file\n",
    "        writer.write({\n",
    "            'prompt': prompt,\n",
    "            'completion': response\n",
    "        })"
   ]
  }
 ],
 "metadata": {
  "kernelspec": {
   "display_name": "Python 3 (ipykernel)",
   "language": "python",
   "name": "python3"
  },
  "language_info": {
   "codemirror_mode": {
    "name": "ipython",
    "version": 3
   },
   "file_extension": ".py",
   "mimetype": "text/x-python",
   "name": "python",
   "nbconvert_exporter": "python",
   "pygments_lexer": "ipython3",
   "version": "3.9.13"
  }
 },
 "nbformat": 4,
 "nbformat_minor": 5
}
