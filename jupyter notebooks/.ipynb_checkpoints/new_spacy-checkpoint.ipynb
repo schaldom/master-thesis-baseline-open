{
 "cells": [
  {
   "cell_type": "code",
   "execution_count": 6,
   "id": "7f0c3f07",
   "metadata": {},
   "outputs": [],
   "source": [
    "import spacy\n",
    "import random\n",
    "import jsonlines\n",
    "\n",
    "# Load input text file\n",
    "with open(\"input_text.txt\", \"r\") as file:\n",
    "    input_text = file.read()\n",
    "\n",
    "# Load SpaCy model for English language\n",
    "nlp = spacy.load(\"en_core_web_sm\")\n",
    "\n",
    "# Extract settings, characters, types, and dialogue from input text using SpaCy\n",
    "doc = nlp(input_text)\n",
    "\n",
    "settings = [ent.text for ent in doc.ents if ent.label_ == \"SETTING\"]\n",
    "characters = [ent.text for ent in doc.ents if ent.label_ == \"CHARACTER\"]\n",
    "types = [ent.text for ent in doc.ents if ent.label_ == \"TYPE\"]\n",
    "dialogue = [sent.text for sent in doc.sents if \"?\" in sent.text]\n",
    "\n",
    "# Check if any of the variables are empty and fill them with default values if necessary\n",
    "if not settings:\n",
    "    settings = [\"a mysterious place\", \"a futuristic city\", \"a medieval castle\", \"a deserted island\", \"a haunted mansion\"]\n",
    "\n",
    "if not characters:\n",
    "    characters = [\"John\", \"Mary\", \"Tom\", \"Samantha\", \"David\"]\n",
    "\n",
    "if not types:\n",
    "    types = [\"hero\", \"villain\", \"sidekick\", \"love interest\", \"mentor\"]\n",
    "\n",
    "if not dialogue:\n",
    "    dialogue = [\"What's going on?\", \"I can't believe it!\", \"We have to hurry!\", \"It's not safe here!\", \"What do we do now?\"]\n",
    "\n",
    "# Generate prompts and responses and write to JSONL file\n",
    "with jsonlines.open('comic_strip_prompts_new_spacy.jsonl', mode='w') as writer:\n",
    "    for i in range(500):\n",
    "        # Generate prompt\n",
    "        if i % 3 == 0:\n",
    "            prompt = \"Panel \" + str(i // 3 + 1) + \": Describe the setting for the panel.\"\n",
    "            response = random.choice(settings)\n",
    "        elif i % 3 == 1:\n",
    "            prompt = \"Panel \" + str(i // 3 + 1) + \": Create a character for the panel.\"\n",
    "            response = random.choice(characters) + \", a \" + random.choice(types)\n",
    "        else:\n",
    "            prompt = \"Panel \" + str(i // 3 + 1) + \": Write some dialogue for the panel.\"\n",
    "            response = random.choice(dialogue)\n",
    "\n",
    "        # Write prompt and response to JSONL file\n",
    "        writer.write({\n",
    "            'prompt': prompt,\n",
    "            'completion': response\n",
    "        })\n"
   ]
  }
 ],
 "metadata": {
  "kernelspec": {
   "display_name": "Python 3 (ipykernel)",
   "language": "python",
   "name": "python3"
  },
  "language_info": {
   "codemirror_mode": {
    "name": "ipython",
    "version": 3
   },
   "file_extension": ".py",
   "mimetype": "text/x-python",
   "name": "python",
   "nbconvert_exporter": "python",
   "pygments_lexer": "ipython3",
   "version": "3.9.13"
  }
 },
 "nbformat": 4,
 "nbformat_minor": 5
}
