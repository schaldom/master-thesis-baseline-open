{
 "cells": [
  {
   "cell_type": "code",
   "execution_count": 1,
   "id": "9098a36e",
   "metadata": {},
   "outputs": [],
   "source": [
    "import random\n",
    "import jsonlines\n",
    "\n",
    "# List of settings\n",
    "settings = [\"in the Great Hall of Hogwarts, with its enchanted ceiling and long wooden tables\",\n",
    "            \"in Diagon Alley, the wizarding shopping district hidden away in London\",\n",
    "            \"in Hogsmeade, the quaint village near Hogwarts that's always bustling with magical activity\",\n",
    "            \"in the Forbidden Forest, where dangerous creatures lurk in the shadows\",\n",
    "            \"in the Ministry of Magic, the center of wizarding government and bureaucracy\",\n",
    "            \"on the Quidditch pitch, with brooms soaring through the air and players competing fiercely for the snitch\",\n",
    "            \"in the Room of Requirement, a secret chamber that only appears when someone is in desperate need\"]\n",
    "\n",
    "# List of character names\n",
    "characters = [\"Harry\", \"Ron\", \"Hermione\", \"Dumbledore\", \"Snape\", \"Malfoy\", \"Voldemort\", \"Sirius\", \"Ginny\", \"Neville\", \"Luna\", \"Bellatrix\"]\n",
    "\n",
    "# List of character types\n",
    "types = [\"main character\", \"villain\", \"best friend\", \"love interest\", \"teacher\", \"ministry official\", \"death eater\", \"animagus\", \"student\", \"ghost\", \"giant\", \"house elf\"]\n",
    "\n",
    "# List of dialogue options\n",
    "dialogue = [\"'I solemnly swear that I am up to no good.'\",\n",
    "            \"'Bloody hell!'\",\n",
    "            \"'It's levi-O-sa, not levio-SA.'\",\n",
    "            \"'Don't be silly, Ron. How can you be in two places at once?'\",\n",
    "            \"'Always.'\",\n",
    "            \"'You have your mother's eyes.'\",\n",
    "            \"'Not my daughter, you bitch!'\",\n",
    "            \"'He was their friend!'\",\n",
    "            \"'Weasley is our king!'\",\n",
    "            \"'I open at the close.'\",\n",
    "            \"'Wit beyond measure is man's greatest treasure.'\",\n",
    "            \"'There's no need to call me sir, professor.'\",\n",
    "            \"'I'm not worried, Harry. I'm with you.'\" ]\n",
    "\n",
    "# Generate 500 prompts and responses and write to JSONL file\n",
    "with jsonlines.open('comic_strip_prompts_harry_potter_v2.jsonl', mode='w') as writer:\n",
    "    for i in range(500):\n",
    "        # Generate prompt\n",
    "        if i % 3 == 0:\n",
    "            prompt = \"Panel \" + str(i // 3 + 1) + \": Describe the setting for the panel.\"\n",
    "            response = random.choice(settings) + \" \" + random.choice(settings)\n",
    "        elif i % 3 == 1:\n",
    "            prompt = \"Panel \" + str(i // 3 + 1) + \": Create a character for the panel.\"\n",
    "            response = random.choice(characters) + \", a \" + random.choice(types) + \", who is \" + random.choice(types)\n",
    "        else:\n",
    "            prompt = \"Panel \" + str(i // 3 + 1) + \": Write some dialogue for the panel.\"\n",
    "            response = random.choice(characters) + \": \" + random.choice(dialogue) + \" \" + random.choice(dialogue)\n",
    "\n",
    "        # Write prompt and response to JSONL file\n",
    "        writer.write({\n",
    "            'prompt': prompt,\n",
    "            'completion': response\n",
    "        })"
   ]
  }
 ],
 "metadata": {
  "kernelspec": {
   "display_name": "Python 3 (ipykernel)",
   "language": "python",
   "name": "python3"
  },
  "language_info": {
   "codemirror_mode": {
    "name": "ipython",
    "version": 3
   },
   "file_extension": ".py",
   "mimetype": "text/x-python",
   "name": "python",
   "nbconvert_exporter": "python",
   "pygments_lexer": "ipython3",
   "version": "3.9.13"
  }
 },
 "nbformat": 4,
 "nbformat_minor": 5
}
