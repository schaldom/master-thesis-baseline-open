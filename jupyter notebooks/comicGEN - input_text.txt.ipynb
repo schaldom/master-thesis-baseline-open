{
 "cells": [
  {
   "cell_type": "code",
   "execution_count": 9,
   "source": [
    "import openai\r\n",
    "import random\r\n",
    "import jsonlines\r\n",
    "\r\n",
    "# Initialize OpenAI API key\r\n",
    "openai.api_key = \"\"\r\n",
    "\r\n",
    "# Load input text file\r\n",
    "with open(\"input_text.txt\", \"r\") as file:\r\n",
    "    input_text = file.read()\r\n",
    "\r\n",
    "# Define function to generate responses using ChatGPT\r\n",
    "def generate_response(prompt):\r\n",
    "    # Split prompt into multiple chunks with a maximum length of 4096 tokens\r\n",
    "    chunks = [prompt[i:i + 4096] for i in range(0, len(prompt), 4096)]\r\n",
    "    response = \"\"\r\n",
    "\r\n",
    "    # Generate response for each chunk using ChatGPT\r\n",
    "    for chunk in chunks:\r\n",
    "        response += openai.Completion.create(\r\n",
    "            engine=\"text-davinci-002\",\r\n",
    "            prompt=chunk,\r\n",
    "            max_tokens=128,\r\n",
    "            n=1,\r\n",
    "            stop=None,\r\n",
    "            temperature=0.5\r\n",
    "        ).choices[0].text.strip()\r\n",
    "\r\n",
    "    return response\r\n",
    "\r\n",
    "# Generate settings, characters, types, and dialogue using ChatGPT\r\n",
    "settings = [generate_response(\"Generate a setting for a comic strip:\\n\" + input_text) for i in range(5)]\r\n",
    "characters = [generate_response(\"Generate a character for a comic strip:\\n\" + input_text) for i in range(5)]\r\n",
    "types = [generate_response(\"Generate a character type for a comic strip:\\n\" + input_text) for i in range(5)]\r\n",
    "dialogue = [generate_response(\"Generate some dialogue for a comic strip:\\n\" + input_text) for i in range(5)]\r\n",
    "\r\n",
    "# Generate prompts and responses and write to JSONL file\r\n",
    "with jsonlines.open('comic_strip_prompts_gpt.jsonl', mode='w') as writer:\r\n",
    "    for i in range(5):\r\n",
    "        # Generate prompt\r\n",
    "        if i % 3 == 0:\r\n",
    "            prompt = \"Panel \" + str(i // 3 + 1) + \": Describe the setting for the panel.\"\r\n",
    "            response = random.choice(settings)\r\n",
    "        elif i % 3 == 1:\r\n",
    "            prompt = \"Panel \" + str(i // 3 + 1) + \": Create a character for the panel.\"\r\n",
    "            response = random.choice(characters) + \", a \" + random.choice(types)\r\n",
    "        else:\r\n",
    "            prompt = \"Panel \" + str(i // 3 + 1) + \": Write some dialogue for the panel.\"\r\n",
    "            response = random.choice(characters) + \": \" + random.choice(dialogue)\r\n",
    "\r\n",
    "        # Write prompt and response to JSONL file\r\n",
    "        writer.write({\r\n",
    "            'prompt': prompt,\r\n",
    "            'completion': response\r\n",
    "        })\r\n"
   ],
   "outputs": [],
   "metadata": {}
  }
 ],
 "metadata": {
  "kernelspec": {
   "display_name": "Python 3 (ipykernel)",
   "language": "python",
   "name": "python3"
  },
  "language_info": {
   "codemirror_mode": {
    "name": "ipython",
    "version": 3
   },
   "file_extension": ".py",
   "mimetype": "text/x-python",
   "name": "python",
   "nbconvert_exporter": "python",
   "pygments_lexer": "ipython3",
   "version": "3.9.13"
  }
 },
 "nbformat": 4,
 "nbformat_minor": 5
}