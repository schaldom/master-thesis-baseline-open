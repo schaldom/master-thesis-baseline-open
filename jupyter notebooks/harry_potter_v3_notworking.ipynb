{
 "cells": [
  {
   "cell_type": "code",
   "execution_count": 2,
   "id": "bd61f6b9",
   "metadata": {},
   "outputs": [
    {
     "ename": "IndexError",
     "evalue": "list index out of range",
     "output_type": "error",
     "traceback": [
      "\u001b[1;31m---------------------------------------------------------------------------\u001b[0m",
      "\u001b[1;31mIndexError\u001b[0m                                Traceback (most recent call last)",
      "\u001b[1;32m~\\AppData\\Local\\Temp/ipykernel_27404/2168584142.py\u001b[0m in \u001b[0;36m<module>\u001b[1;34m\u001b[0m\n\u001b[0;32m     52\u001b[0m         \u001b[1;32melif\u001b[0m \u001b[0mi\u001b[0m \u001b[1;33m%\u001b[0m \u001b[1;36m3\u001b[0m \u001b[1;33m==\u001b[0m \u001b[1;36m1\u001b[0m\u001b[1;33m:\u001b[0m\u001b[1;33m\u001b[0m\u001b[1;33m\u001b[0m\u001b[0m\n\u001b[0;32m     53\u001b[0m             \u001b[0mprompt\u001b[0m \u001b[1;33m=\u001b[0m \u001b[1;34m\"Panel \"\u001b[0m \u001b[1;33m+\u001b[0m \u001b[0mstr\u001b[0m\u001b[1;33m(\u001b[0m\u001b[0mi\u001b[0m \u001b[1;33m//\u001b[0m \u001b[1;36m3\u001b[0m \u001b[1;33m+\u001b[0m \u001b[1;36m1\u001b[0m\u001b[1;33m)\u001b[0m \u001b[1;33m+\u001b[0m \u001b[1;34m\": Create a character for the panel.\"\u001b[0m\u001b[1;33m\u001b[0m\u001b[1;33m\u001b[0m\u001b[0m\n\u001b[1;32m---> 54\u001b[1;33m             \u001b[0mresponse\u001b[0m \u001b[1;33m=\u001b[0m \u001b[0mrandom\u001b[0m\u001b[1;33m.\u001b[0m\u001b[0mchoice\u001b[0m\u001b[1;33m(\u001b[0m\u001b[1;33m[\u001b[0m\u001b[0mchar\u001b[0m \u001b[1;32mfor\u001b[0m \u001b[0mchar\u001b[0m \u001b[1;32min\u001b[0m \u001b[0mcharacters\u001b[0m \u001b[1;32mif\u001b[0m \u001b[0mchar\u001b[0m \u001b[1;32mnot\u001b[0m \u001b[1;32min\u001b[0m \u001b[0mprev_characters\u001b[0m\u001b[1;33m]\u001b[0m\u001b[1;33m)\u001b[0m \u001b[1;33m+\u001b[0m \u001b[1;34m\", a \"\u001b[0m \u001b[1;33m+\u001b[0m \u001b[0mrandom\u001b[0m\u001b[1;33m.\u001b[0m\u001b[0mchoice\u001b[0m\u001b[1;33m(\u001b[0m\u001b[0mtypes\u001b[0m\u001b[1;33m)\u001b[0m \u001b[1;33m+\u001b[0m \u001b[1;34m\", who is \"\u001b[0m \u001b[1;33m+\u001b[0m \u001b[0mrandom\u001b[0m\u001b[1;33m.\u001b[0m\u001b[0mchoice\u001b[0m\u001b[1;33m(\u001b[0m\u001b[0mtypes\u001b[0m\u001b[1;33m)\u001b[0m\u001b[1;33m\u001b[0m\u001b[1;33m\u001b[0m\u001b[0m\n\u001b[0m\u001b[0;32m     55\u001b[0m             \u001b[0mprev_characters\u001b[0m\u001b[1;33m.\u001b[0m\u001b[0mappend\u001b[0m\u001b[1;33m(\u001b[0m\u001b[0mresponse\u001b[0m\u001b[1;33m.\u001b[0m\u001b[0msplit\u001b[0m\u001b[1;33m(\u001b[0m\u001b[1;34m\",\"\u001b[0m\u001b[1;33m)\u001b[0m\u001b[1;33m[\u001b[0m\u001b[1;36m0\u001b[0m\u001b[1;33m]\u001b[0m\u001b[1;33m)\u001b[0m\u001b[1;33m\u001b[0m\u001b[1;33m\u001b[0m\u001b[0m\n\u001b[0;32m     56\u001b[0m             \u001b[0mstory\u001b[0m \u001b[1;33m+=\u001b[0m \u001b[0mresponse\u001b[0m \u001b[1;33m+\u001b[0m \u001b[1;34m\" \"\u001b[0m\u001b[1;33m\u001b[0m\u001b[1;33m\u001b[0m\u001b[0m\n",
      "\u001b[1;32m~\\anaconda3\\lib\\random.py\u001b[0m in \u001b[0;36mchoice\u001b[1;34m(self, seq)\u001b[0m\n\u001b[0;32m    344\u001b[0m         \u001b[1;34m\"\"\"Choose a random element from a non-empty sequence.\"\"\"\u001b[0m\u001b[1;33m\u001b[0m\u001b[1;33m\u001b[0m\u001b[0m\n\u001b[0;32m    345\u001b[0m         \u001b[1;31m# raises IndexError if seq is empty\u001b[0m\u001b[1;33m\u001b[0m\u001b[1;33m\u001b[0m\u001b[0m\n\u001b[1;32m--> 346\u001b[1;33m         \u001b[1;32mreturn\u001b[0m \u001b[0mseq\u001b[0m\u001b[1;33m[\u001b[0m\u001b[0mself\u001b[0m\u001b[1;33m.\u001b[0m\u001b[0m_randbelow\u001b[0m\u001b[1;33m(\u001b[0m\u001b[0mlen\u001b[0m\u001b[1;33m(\u001b[0m\u001b[0mseq\u001b[0m\u001b[1;33m)\u001b[0m\u001b[1;33m)\u001b[0m\u001b[1;33m]\u001b[0m\u001b[1;33m\u001b[0m\u001b[1;33m\u001b[0m\u001b[0m\n\u001b[0m\u001b[0;32m    347\u001b[0m \u001b[1;33m\u001b[0m\u001b[0m\n\u001b[0;32m    348\u001b[0m     \u001b[1;32mdef\u001b[0m \u001b[0mshuffle\u001b[0m\u001b[1;33m(\u001b[0m\u001b[0mself\u001b[0m\u001b[1;33m,\u001b[0m \u001b[0mx\u001b[0m\u001b[1;33m,\u001b[0m \u001b[0mrandom\u001b[0m\u001b[1;33m=\u001b[0m\u001b[1;32mNone\u001b[0m\u001b[1;33m)\u001b[0m\u001b[1;33m:\u001b[0m\u001b[1;33m\u001b[0m\u001b[1;33m\u001b[0m\u001b[0m\n",
      "\u001b[1;31mIndexError\u001b[0m: list index out of range"
     ]
    }
   ],
   "source": [
    "import random\n",
    "import jsonlines\n",
    "\n",
    "# List of settings\n",
    "settings = [\"in the Great Hall of Hogwarts, with its enchanted ceiling and long wooden tables\",\n",
    "            \"in Diagon Alley, the wizarding shopping district hidden away in London\",\n",
    "            \"in Hogsmeade, the quaint village near Hogwarts that's always bustling with magical activity\",\n",
    "            \"in the Forbidden Forest, where dangerous creatures lurk in the shadows\",\n",
    "            \"in the Ministry of Magic, the center of wizarding government and bureaucracy\",\n",
    "            \"on the Quidditch pitch, with brooms soaring through the air and players competing fiercely for the snitch\",\n",
    "            \"in the Room of Requirement, a secret chamber that only appears when someone is in desperate need\"]\n",
    "\n",
    "# List of character names\n",
    "characters = [\"Harry\", \"Ron\", \"Hermione\", \"Dumbledore\", \"Snape\", \"Malfoy\", \"Voldemort\", \"Sirius\", \"Ginny\", \"Neville\", \"Luna\", \"Bellatrix\"]\n",
    "\n",
    "# List of character types\n",
    "types = [\"main character\", \"villain\", \"best friend\", \"love interest\", \"teacher\", \"ministry official\", \"death eater\", \"animagus\", \"student\", \"ghost\", \"giant\", \"house elf\"]\n",
    "\n",
    "# List of dialogue options\n",
    "dialogue = [\"'I solemnly swear that I am up to no good.'\",\n",
    "            \"'Bloody hell!'\",\n",
    "            \"'It's levi-O-sa, not levio-SA.'\",\n",
    "            \"'Don't be silly, Ron. How can you be in two places at once?'\",\n",
    "            \"'Always.'\",\n",
    "            \"'You have your mother's eyes.'\",\n",
    "            \"'Not my daughter, you bitch!'\",\n",
    "            \"'He was their friend!'\",\n",
    "            \"'Weasley is our king!'\",\n",
    "            \"'I open at the close.'\",\n",
    "            \"'Wit beyond measure is man's greatest treasure.'\",\n",
    "            \"'There's no need to call me sir, professor.'\",\n",
    "            \"'I'm not worried, Harry. I'm with you.'\"]\n",
    "\n",
    "# Initialize previous settings, characters, types, and dialogue\n",
    "prev_settings = \"\"\n",
    "prev_characters = []\n",
    "prev_types = []\n",
    "prev_dialogue = []\n",
    "\n",
    "# Initialize story\n",
    "story = \"\"\n",
    "\n",
    "# Generate 500 prompts and responses and write to JSONL file\n",
    "with jsonlines.open('comic_strip_prompts_harry_potter_v3.jsonl', mode='w') as writer:\n",
    "    for i in range(500):\n",
    "        # Generate prompt\n",
    "        if i % 3 == 0:\n",
    "            prompt = \"Panel \" + str(i // 3 + 1) + \": Describe the setting for the panel.\"\n",
    "            response = random.choice(settings)\n",
    "            prev_settings = response\n",
    "            story += response + \" \"\n",
    "        elif i % 3 == 1:\n",
    "            prompt = \"Panel \" + str(i // 3 + 1) + \": Create a character for the panel.\"\n",
    "            response = random.choice([char for char in characters if char not in prev_characters]) + \", a \" + random.choice(types) + \", who is \" + random.choice(types)\n",
    "            prev_characters.append(response.split(\",\")[0])\n",
    "            story += response + \" \"\n",
    "        else:\n",
    "            prompt = \"Panel \" + str(i // 3 + 1) + \": Write some dialogue for the panel.\"\n",
    "            response = random.choice([char + \": \" + dia for char in characters for dia in dialogue if char not in prev_dialogue])\n",
    "            prev_dialogue.append(response.split(\":\")[0])\n",
    "            story += response + \". \"\n",
    "\n",
    "        # Write prompt and response to JSONL file\n",
    "        writer.write({\n",
    "            'prompt': prompt,\n",
    "            'completion': response\n",
    "        })\n",
    "\n",
    "       \n"
   ]
  }
 ],
 "metadata": {
  "kernelspec": {
   "display_name": "Python 3 (ipykernel)",
   "language": "python",
   "name": "python3"
  },
  "language_info": {
   "codemirror_mode": {
    "name": "ipython",
    "version": 3
   },
   "file_extension": ".py",
   "mimetype": "text/x-python",
   "name": "python",
   "nbconvert_exporter": "python",
   "pygments_lexer": "ipython3",
   "version": "3.9.7"
  }
 },
 "nbformat": 4,
 "nbformat_minor": 5
}
